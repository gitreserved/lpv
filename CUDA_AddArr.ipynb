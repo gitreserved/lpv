{
  "nbformat": 4,
  "nbformat_minor": 0,
  "metadata": {
    "colab": {
      "provenance": [],
      "gpuType": "T4"
    },
    "kernelspec": {
      "name": "python3",
      "display_name": "Python 3"
    },
    "language_info": {
      "name": "python"
    },
    "accelerator": "GPU",
    "gpuClass": "standard"
  },
  "cells": [
    {
      "cell_type": "code",
      "source": [
        "!pip install git+https://github.com/andreinechaev/nvcc4jupyter.git"
      ],
      "metadata": {
        "colab": {
          "base_uri": "https://localhost:8080/"
        },
        "id": "VApN5T18YYws",
        "outputId": "3773295f-37db-4180-bc51-d52f4d118aad"
      },
      "execution_count": null,
      "outputs": [
        {
          "output_type": "stream",
          "name": "stdout",
          "text": [
            "Looking in indexes: https://pypi.org/simple, https://us-python.pkg.dev/colab-wheels/public/simple/\n",
            "Collecting git+https://github.com/andreinechaev/nvcc4jupyter.git\n",
            "  Cloning https://github.com/andreinechaev/nvcc4jupyter.git to /tmp/pip-req-build-p9gan9p5\n",
            "  Running command git clone --filter=blob:none --quiet https://github.com/andreinechaev/nvcc4jupyter.git /tmp/pip-req-build-p9gan9p5\n",
            "  Resolved https://github.com/andreinechaev/nvcc4jupyter.git to commit aac710a35f52bb78ab34d2e52517237941399eff\n",
            "  Preparing metadata (setup.py) ... \u001b[?25l\u001b[?25hdone\n",
            "Building wheels for collected packages: NVCCPlugin\n",
            "  Building wheel for NVCCPlugin (setup.py) ... \u001b[?25l\u001b[?25hdone\n",
            "  Created wheel for NVCCPlugin: filename=NVCCPlugin-0.0.2-py3-none-any.whl size=4287 sha256=9df011698d3c07172beea3fb552824ed712f43f23003f378cf1d3b0664cc7604\n",
            "  Stored in directory: /tmp/pip-ephem-wheel-cache-5cednlcc/wheels/a8/b9/18/23f8ef71ceb0f63297dd1903aedd067e6243a68ea756d6feea\n",
            "Successfully built NVCCPlugin\n",
            "Installing collected packages: NVCCPlugin\n",
            "Successfully installed NVCCPlugin-0.0.2\n"
          ]
        }
      ]
    },
    {
      "cell_type": "code",
      "source": [
        "%load_ext nvcc_plugin"
      ],
      "metadata": {
        "colab": {
          "base_uri": "https://localhost:8080/"
        },
        "id": "JIol4cr9YlGE",
        "outputId": "87c21f60-050c-4ab1-d57f-b39b4b3080f1"
      },
      "execution_count": null,
      "outputs": [
        {
          "output_type": "stream",
          "name": "stdout",
          "text": [
            "created output directory at /content/src\n",
            "Out bin /content/result.out\n"
          ]
        }
      ]
    },
    {
      "cell_type": "code",
      "execution_count": null,
      "metadata": {
        "colab": {
          "base_uri": "https://localhost:8080/"
        },
        "id": "U2DhWw_mWxId",
        "outputId": "5b646957-2d28-46a9-fda7-c6c6b5d63e86"
      },
      "outputs": [
        {
          "output_type": "stream",
          "name": "stderr",
          "text": [
            "UsageError: Cell magic `%%cu` not found.\n"
          ]
        }
      ],
      "source": [
        "%%cu\n",
        "#include<stdio.h>\n",
        "#include<cuda.h>\n",
        "#include<stdlib.h>\n",
        "#include<time.h>\n",
        "\n",
        "#define N 500\n",
        "\n",
        "__global__ void add(int *a, int *b, int *c){\n",
        "\n",
        "int tid = threadIdx.x;\n",
        "if (tid < N){\n",
        "\tc[tid]= a[tid] + b[tid];\n",
        "\t}\n",
        "\n",
        "}\n",
        "\n",
        " int main (void){\n",
        "        int arraySize = 6;\n",
        "    int a[arraySize] = { 1, 2, 3, 4, 5, 0 };\n",
        "    int b[arraySize] = { 10, 20, 30, 40, 50, 1 };\n",
        "    int c[arraySize] = {0};\n",
        "    printf(\"arr 1: \", a);\n",
        "    printf(\"arr 2: \", b);\n",
        "/*int a[N], b[N], c[N];*/\n",
        "int *dev_a, *dev_b,*dev_c;\n",
        "cudaError_t err=cudaSuccess;\n",
        "err=cudaMalloc((void**)&dev_a,N * sizeof(int)); \n",
        "if (err !=cudaSuccess)\n",
        "{ \tprintf(\"failed to  allocate on device \\n\");\n",
        "\tprintf(\"error is:\\n\",cudaGetErrorString(err));\n",
        "exit(EXIT_FAILURE);\n",
        "}\n",
        "cudaMalloc((void**)&dev_b,N * sizeof(int)); \n",
        "cudaMalloc((void**)&dev_c,N * sizeof(int)); \n",
        "\n",
        "for(int i=0;i<6;i++){\n",
        "a[i] =i;\n",
        "b[i] = i*i;\n",
        "\n",
        "c[i]=0;\n",
        "}\n",
        "\n",
        "/*for(int i=0;i<6;i++){\n",
        "printf(\" c conttents are =%d\\n\",  c[i]);\n",
        "} */\n",
        "cudaEvent_t start, end;\n",
        "cudaEventCreate(&start);\n",
        "cudaEventCreate(&end);\n",
        "cudaEventRecord(start);\n",
        "\n",
        "cudaMemcpy(dev_a,a,N*sizeof(int), cudaMemcpyHostToDevice);\n",
        "cudaMemcpy(dev_b,b,N*sizeof(int), cudaMemcpyHostToDevice);\n",
        "cudaMemcpy(dev_c,c,N*sizeof(int), cudaMemcpyHostToDevice);\n",
        "add<<<1,N>>>(dev_a,dev_b,dev_c);\n",
        "\n",
        "err=cudaMemcpy(c,dev_c,N*sizeof(int), cudaMemcpyDeviceToHost);\n",
        "if (err !=cudaSuccess)\n",
        "{ \tprintf(\"failed to  copy from device \\n\");\n",
        "exit(EXIT_FAILURE);\n",
        "}\n",
        "\n",
        "cudaEventRecord(end);\n",
        "cudaEventSynchronize(end);\n",
        "float time = 0;\n",
        "cudaEventElapsedTime(&time, start, end);\n",
        "printf(\"execution time=%f\\n\",time);\n",
        "\n",
        "for(int i=0;i<N;i++){\n",
        "//printf(\"%d +%d=%d\\n\", a[i], b[i], c[i]);\n",
        "}\n",
        "\n",
        "cudaFree(dev_a);\n",
        "cudaFree(dev_b);\n",
        "cudaFree(dev_c);\n",
        "\n",
        "return 0;\n",
        "}\n"
      ]
    },
    {
      "cell_type": "code",
      "source": [],
      "metadata": {
        "id": "TVd0iuOQMDUP"
      },
      "execution_count": null,
      "outputs": []
    }
  ]
}